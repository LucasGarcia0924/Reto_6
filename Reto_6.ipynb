{
 "cells": [
  {
   "cell_type": "markdown",
   "metadata": {},
   "source": [
    "# Reto 6"
   ]
  },
  {
   "cell_type": "markdown",
   "metadata": {},
   "source": [
    "## Punto 1\n",
    "***"
   ]
  },
  {
   "cell_type": "code",
   "execution_count": null,
   "metadata": {},
   "outputs": [],
   "source": [
    "import math\n",
    "\n",
    "def Volumen (r1: float, r2: float, h: float) -> float:\n",
    "    volumen = ((4*math.pi * r1**3)/3) + ((math.pi * r2**2 * h)/3)\n",
    "    return volumen\n",
    "\n",
    "def Area_superficial (r1: float, r2: float, h: float) -> float:\n",
    "    h_inclinada = (r2**2 + h **2)**0.5\n",
    "    area_superf = (4*math.pi * r1**2) + (math.pi * r2**2 + math.pi * r2 * h_inclinada)\n",
    "    return area_superf\n",
    "\n",
    "if __name__ == \"__main__\":\n",
    "\n",
    "    volumen_total: float\n",
    "    area_superficial: float\n",
    "    \n",
    "    print(\"Por favor utilice datos en centímetros\")\n",
    "    r1 = float(input(\"Ingrese radio de la esfera: \"))\n",
    "    r2 = float(input(\"Ingrese radio del cono: \"))\n",
    "    h = float (input(\"Ingrese h del cono: \"))\n",
    "\n",
    "    volumen_total = Volumen(r1, r2, h)\n",
    "    area_superficial = Area_superficial(r1, r2, h)\n",
    "\n",
    "    print(\"De la figura mostrada el volumen es:\", str(volumen_total),\"cm^3\")\n",
    "    print(\"De la figura mostrada el área superficial es:\", str(area_superficial),\"cm^2\")"
   ]
  },
  {
   "cell_type": "markdown",
   "metadata": {},
   "source": [
    "## Punto 2\n",
    "***"
   ]
  },
  {
   "cell_type": "code",
   "execution_count": null,
   "metadata": {},
   "outputs": [],
   "source": [
    "import math\n",
    "\n",
    "def perimetro (r: float, b: float, a: float) -> float:\n",
    "    perimetro = (b*2 + a*2) + (r * 2 * math.pi)*2\n",
    "    return perimetro\n",
    "\n",
    "def area (r: float, b: float, a: float) -> float:\n",
    "    area = (b * a) + (math.pi * r**2)*2\n",
    "    return area\n",
    "\n",
    "if __name__ == \"__main__\":\n",
    "    \n",
    "    perimetro_figura: float\n",
    "    area_figura: float\n",
    "\n",
    "    print(\"Por favor utilice datos en centímetros\")\n",
    "    r = float(input(\"Ingrese el radio de las circunferencias: \"))\n",
    "    b = float(input(\"Ingrese la base del rectángulo: \"))\n",
    "    a = float(input(\"Ingrese la altura del rectágnulo\"))\n",
    "\n",
    "    perimetro_figura = perimetro(r,b,a)\n",
    "    area_figura = area(r,b,a)\n",
    "\n",
    "    print(\"De la figura mostrada el perimetro es:\", str(perimetro_figura),\"cm\")\n",
    "    print(\"De la figura mostrada el área es:\", str(area_figura),\"cm^2\")"
   ]
  },
  {
   "cell_type": "markdown",
   "metadata": {},
   "source": [
    "## Punto 3\n",
    "***\n"
   ]
  },
  {
   "cell_type": "code",
   "execution_count": null,
   "metadata": {},
   "outputs": [],
   "source": [
    "def masa (N: int, M: int, K: int) -> int:\n",
    "    cantidad_kilos = (N*6) + (M*7) + K\n",
    "    return cantidad_kilos\n",
    "\n",
    "if __name__ == \"__main__\":\n",
    "    kilos: int\n",
    "    print(\"Ingrese la cantidad de los siguientes animales que se tiene:\")\n",
    "    N = int(input(\"Gallinas:\"))\n",
    "    M = int(input(\"Gallos:\"))\n",
    "    K = int(input(\"Pollitos:\"))\n",
    "\n",
    "    kilos = masa(N,M,K)\n",
    "    print(\"La cantidad de carne es de:\", kilos,\"kg\")"
   ]
  },
  {
   "cell_type": "markdown",
   "metadata": {},
   "source": [
    "## Punto 4\n",
    "***"
   ]
  },
  {
   "cell_type": "code",
   "execution_count": null,
   "metadata": {},
   "outputs": [],
   "source": [
    "def cambio (P: int, M: int, H: int, B: int) -> float:\n",
    "    residuo = B - (P*300 + M*3300 + H*350)\n",
    "    return residuo\n",
    "\n",
    "if __name__ == \"__main__\":\n",
    "    restante: float\n",
    "    print(\"Ingrese el número de unidades que comprará de:\")\n",
    "    P = int(input(\"Panes:\"))\n",
    "    M = int(input(\"Bolsas de leche:\"))\n",
    "    H = int(input(\"Huevos:\"))\n",
    "    B = int(input(\"Y de igual forma el billete usado (sin puntos)\"))\n",
    "\n",
    "    restante = cambio(P,M,H,B)\n",
    "    if restante < 0:\n",
    "        valor_absoluto = restante * -1\n",
    "        print(\"Quedaste debiendo:\", str(valor_absoluto), \"pesos\")\n",
    "    else:\n",
    "        print(\"Recibiste de vuelto:\", str(restante), \"pesos\")"
   ]
  },
  {
   "cell_type": "markdown",
   "metadata": {},
   "source": [
    "## Punto 5\n",
    "***\n"
   ]
  },
  {
   "cell_type": "code",
   "execution_count": null,
   "metadata": {},
   "outputs": [],
   "source": [
    "def prestamo (C: float, i: float, n: int) -> float:\n",
    "    i = i/100\n",
    "    capital_final = C * (1+i)**n\n",
    "    return capital_final\n",
    "\n",
    "if __name__ == \"__main__\":\n",
    "\n",
    "    Deuda: float\n",
    "\n",
    "    print(\"Ingresa los sgtes valores:\")\n",
    "    C = float(input(\"Capital inicial: \"))\n",
    "    i = float(input(\"Tasa de interes (sin porcentaje):\"))\n",
    "    n = int(input(\"Meses del prestamo\"))\n",
    "\n",
    "    Deuda = prestamo(C,i,n)\n",
    "    print(\"La deuda a pagar escala hasta:\",str(Deuda),\"pesos\")"
   ]
  },
  {
   "cell_type": "markdown",
   "metadata": {},
   "source": [
    "## Punto 6\n",
    "***\n"
   ]
  },
  {
   "cell_type": "code",
   "execution_count": null,
   "metadata": {},
   "outputs": [],
   "source": [
    "def contagiados (D: int, C: int) -> int:\n",
    "    enfermos_finales = C * 2**D\n",
    "    return enfermos_finales\n",
    "\n",
    "if __name__ == \"__main__\":\n",
    "\n",
    "\n",
    "    print(\"En NuncaLandia hay un nuevo brote de COVID-19\")\n",
    "    C = int(input(\"¿Cuántos contagiados crees que hay hoy?\"))\n",
    "    D = int(input(\"¿En cuántos días quieres ver qué tantos contagiados hay?\"))\n",
    "\n",
    "    Contagiados_prime = contagiados(D,C)\n",
    "\n",
    "    print(\"Para\",str(D),\"días después de hoy, habrán\", str(Contagiados_prime),\"contagiados\")"
   ]
  },
  {
   "cell_type": "markdown",
   "metadata": {},
   "source": [
    "## Punto 7\n",
    "***"
   ]
  },
  {
   "cell_type": "code",
   "execution_count": null,
   "metadata": {},
   "outputs": [],
   "source": [
    "from Funciones_reto6 import *\n",
    "\n",
    "if __name__ == \"__main__\":\n",
    "\n",
    "    promedio5: float\n",
    "    mediana5: float\n",
    "    prome_multi: float\n",
    "    orden_ascendente: float\n",
    "    orden_descendente: float\n",
    "    potencia_del_mayor: float\n",
    "    raíz_del_menor: float\n",
    "\n",
    "    print(\"Digita 5 números\")\n",
    "    a = float(input(\"El primero:\"))\n",
    "    b = float(input(\"El segundo:\"))\n",
    "    c = float(input(\"El tercero:\"))\n",
    "    d = float(input(\"El cuarto:\"))\n",
    "    e = float(input(\"El quinto:\"))\n",
    "\n",
    "    promedio5 = promedio(a,b,c,d,e)\n",
    "    mediana5 = mediana(a,b,c,d,e)\n",
    "    prome_multi = prom_multi(a,b,c,d,e)\n",
    "    orden_ascendente = ascender(a,b,c,d,e)\n",
    "    orden_descendente = descender(a,b,c,d,e)\n",
    "    potencia_del_mayor = potencia(a,b,c,d,e)\n",
    "    raíz_del_menor = root(a,b,c,d,e)\n",
    "\n",
    "    print(\"De estos números se tiene que:\")\n",
    "    print(str(promedio5),\"es su promedio\")\n",
    "    print(str(mediana5),\"es su mediana\")\n",
    "    print(str(orden_ascendente),\"así se encuentran en orden ascendente\")\n",
    "    print(str(orden_descendente),\"así se encuentran en orden descendente\")\n",
    "    print(str(potencia_del_mayor),\"es la potencia del número mayor elevado al menor\")\n",
    "    print(str(raíz_del_menor),\"es la raíz cúbica del número menor\")\n"
   ]
  }
 ],
 "metadata": {
  "kernelspec": {
   "display_name": "Python 3",
   "language": "python",
   "name": "python3"
  },
  "language_info": {
   "codemirror_mode": {
    "name": "ipython",
    "version": 3
   },
   "file_extension": ".py",
   "mimetype": "text/x-python",
   "name": "python",
   "nbconvert_exporter": "python",
   "pygments_lexer": "ipython3",
   "version": "3.12.2"
  }
 },
 "nbformat": 4,
 "nbformat_minor": 2
}
